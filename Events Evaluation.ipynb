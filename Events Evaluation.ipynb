{
 "cells": [
  {
   "cell_type": "code",
   "execution_count": 1,
   "id": "9a1602fa",
   "metadata": {},
   "outputs": [
    {
     "name": "stderr",
     "output_type": "stream",
     "text": [
      "c:\\Users\\zeina\\Desktop\\EventsEvaluation\\lib\\site-packages\\tqdm\\auto.py:21: TqdmWarning: IProgress not found. Please update jupyter and ipywidgets. See https://ipywidgets.readthedocs.io/en/stable/user_install.html\n",
      "  from .autonotebook import tqdm as notebook_tqdm\n"
     ]
    }
   ],
   "source": [
    "from sentence_transformers import SentenceTransformer, util\n",
    "import bert_score\n",
    "from rouge_score import rouge_scorer\n",
    "from sklearn.metrics.pairwise import cosine_similarity\n",
    "from sklearn.cluster import KMeans\n",
    "import numpy as np\n",
    "\n"
   ]
  },
  {
   "cell_type": "code",
   "execution_count": 2,
   "id": "86f12650",
   "metadata": {},
   "outputs": [],
   "source": [
    "# Load models once\n",
    "sbert_model = SentenceTransformer('all-MiniLM-L6-v2')"
   ]
  },
  {
   "cell_type": "code",
   "execution_count": 25,
   "id": "46e4bbf3",
   "metadata": {},
   "outputs": [
    {
     "name": "stderr",
     "output_type": "stream",
     "text": [
      "[nltk_data] Downloading package wordnet to\n",
      "[nltk_data]     C:\\Users\\zeina\\AppData\\Roaming\\nltk_data...\n",
      "[nltk_data]   Package wordnet is already up-to-date!\n"
     ]
    },
    {
     "data": {
      "text/plain": [
       "True"
      ]
     },
     "execution_count": 25,
     "metadata": {},
     "output_type": "execute_result"
    }
   ],
   "source": [
    "from nltk.translate.meteor_score import meteor_score\n",
    "import nltk\n",
    "\n",
    "nltk.download('wordnet')\n",
    "    "
   ]
  },
  {
   "cell_type": "code",
   "execution_count": 36,
   "id": "31d86b9b",
   "metadata": {},
   "outputs": [],
   "source": [
    "# --- 1. Semantic Similarity (S-BERT cosine) ---\n",
    "def compute_semantic_similarity_sbert(original_text: str, summary: str) -> float:\n",
    "    embeddings = sbert_model.encode([original_text, summary], convert_to_tensor=True)\n",
    "    similarity = util.pytorch_cos_sim(embeddings[0], embeddings[1]).item()\n",
    "    return similarity\n",
    "\n",
    "\n",
    "# --- 2. Content Similarity (BERTScore) ---\n",
    "def compute_bertscore(original_text: str, summary: str) -> float:\n",
    "    P, R, F1 = bert_score.score([summary], [original_text], lang='en', verbose=False)\n",
    "    return F1[0].item()\n",
    "\n",
    "\n",
    "# --- 3. Coverage (ROUGE-L) ---\n",
    "def compute_rouge_l(original_text: str, summary: str) -> float:\n",
    "    scorer = rouge_scorer.RougeScorer(['rougeL'], use_stemmer=True)\n",
    "    score = scorer.score(original_text, summary)\n",
    "    return score['rougeL'].fmeasure\n",
    "\n",
    "\n",
    "# --- 4. Relevance ---\n",
    "def relevance(original_text, summary):\n",
    "    \n",
    "    reference = [original_text.split()]\n",
    "    hypothesis = summary.split()\n",
    "    score = meteor_score(reference, hypothesis)\n",
    "    return score\n",
    "\n",
    "# --- 5. Relevance Spread ---\n",
    "\n",
    "def relevance_spread(original_text, summary):\n",
    "   \n",
    "    sections = [original_text[i:i + len(original_text)//4] for i in range(0, len(original_text), len(original_text)//4)]\n",
    "    meteor_scores = [meteor_score([s.split()], summary.split()) for s in sections if s]\n",
    "    if not meteor_scores or len(meteor_scores) < 2:\n",
    "        return 0\n",
    "    std_dev = np.std(meteor_scores)\n",
    "    mean_score = np.mean(meteor_scores)\n",
    "    return float(std_dev / mean_score) if mean_score != 0 else 0\n",
    "\n",
    "\n",
    "# --- Evaluation Wrapper ---\n",
    "def evaluate_summary_v2(original_text: str, summary: str) -> dict:\n",
    "    return {\n",
    "        \"Semantic Similarity (SBERT)\": compute_semantic_similarity_sbert(original_text, summary),\n",
    "        \"Content Similarity (BERTScore)\": compute_bertscore(original_text, summary),\n",
    "        \"Coverage (ROUGE-L)\": compute_rouge_l(original_text, summary),\n",
    "        \"Relevance (METEOR)\": relevance(original_text, summary),\n",
    "        \"Relevance Spread\": relevance_spread(original_text, summary)\n",
    "    }\n"
   ]
  },
  {
   "cell_type": "code",
   "execution_count": 4,
   "id": "eb7495fd",
   "metadata": {},
   "outputs": [],
   "source": [
    "original_text = \"\"\"Once upon a time there was a dear little girl who was loved by every one who looked at her, but most of all by her grandmother, and there was nothing that she would not have given to the child. Once she gave her a little cap of red velvet, which suited her so well that she would never wear anything else. So she was always called Little Red Riding Hood.\n",
    "One day her mother said to her, \"Come, Little Red Riding Hood, here is a piece of cake and a bottle of wine. Take them to your grandmother, she is ill and weak, and they will do her good. Set out before it gets hot, and when you are going, walk nicely and quietly and do not run off the path, or you may fall and break the bottle, and then your grandmother will get nothing. And when you go into her room, don't forget to say, good-morning, and don't peep into every corner before you do it.\"\n",
    "I will take great care, said Little Red Riding Hood to her mother, and gave her hand on it. The grandmother lived out in the wood, half a league from the village, and just as Little Red Riding Hood entered the wood, a wolf met her. Little Red Riding Hood did not know what a wicked creature he was, and was not at all afraid of him.\n",
    "\"Good-day, Little Red Riding Hood,\" said he.\n",
    "\"Thank you kindly, wolf.\"\n",
    "\"Whither away so early, Little Red Riding Hood?\"\n",
    "\"To my grandmother's.\"\n",
    "\"What have you got in your apron?\"\n",
    "\"Cake and wine. Yesterday was baking-day, so poor sick grandmother is to have something good, to make her stronger.\"\n",
    "\"Where does your grandmother live, Little Red Riding Hood?\"\n",
    "\"A good quarter of a league farther on in the wood. Her house stands under the three large oak-trees, the nut-trees are just below. You surely must know it,\" replied Little Red Riding Hood.\n",
    "The wolf thought to himself, \"What a tender young creature. What a nice plump mouthful, she will be better to eat than the old woman. I must act craftily, so as to catch both.\" So he walked for a short time by the side of Little Red Riding Hood, and then he said, \"see Little Red Riding Hood, how pretty the flowers are about here. Why do you not look round. I believe, too, that you do not hear how sweetly the little birds are singing. You walk gravely along as if you were going to school, while everything else out here in the wood is merry.\"\n",
    "Little Red Riding Hood raised her eyes, and when she saw the sunbeams dancing here and there through the trees, and pretty flowers growing everywhere, she thought, suppose I take grandmother a fresh nosegay. That would please her too. It is so early in the day that I shall still get there in good time. And so she ran from the path into the wood to look for flowers. And whenever she had picked one, she fancied that she saw a still prettier one farther on, and ran after it, and so got deeper and deeper into the wood.\n",
    "Meanwhile the wolf ran straight to the grandmother's house and knocked at the door.\n",
    "\"Who is there?\"\n",
    "\"Little Red Riding Hood,\" replied the wolf. \"She is bringing cake and wine. Open the door.\"\n",
    "\"Lift the latch,\" called out the grandmother, \"I am too weak, and cannot get up.\"\n",
    "The wolf lifted the latch, the door sprang open, and without saying a word he went straight to the grandmother's bed, and devoured her. Then he put on her clothes, dressed himself in her cap, laid himself in bed and drew the curtains.\n",
    "Little Red Riding Hood, however, had been running about picking flowers, and when she had gathered so many that she could carry no more, she remembered her grandmother, and set out on the way to her.\n",
    "She was surprised to find the cottage-door standing open, and when she went into the room, she had such a strange feeling that she said to herself, oh dear, how uneasy I feel to-day, and at other times I like being with grandmother so much.\n",
    "She called out, \"Good morning,\" but received no answer. So she went to the bed and drew back the curtains. There lay her grandmother with her cap pulled far over her face, and looking very strange.\n",
    "\"Oh, grandmother,\" she said, \"what big ears you have.\"\n",
    "\"The better to hear you with, my child,\" was the reply.\n",
    "\"But, grandmother, what big eyes you have,\" she said.\n",
    "\"The better to see you with, my dear.\"\n",
    "\"But, grandmother, what large hands you have.\"\n",
    "\"The better to hug you with.\"\n",
    "\"Oh, but, grandmother, what a terrible big mouth you have.\"\n",
    "\"The better to eat you with.\"\n",
    "And scarcely had the wolf said this, than with one bound he was out of bed and swallowed up Little Red Riding Hood.\n",
    "When the wolf had appeased his appetite, he lay down again in the bed, fell asleep and began to snore very loud. The huntsman was just passing the house, and thought to himself, how the old woman is snoring. I must just see if she wants anything.\n",
    "So he went into the room, and when he came to the bed, he saw that the wolf was lying in it. \"Do I find you here, you old sinner,\" said he. \"I have long sought you.\"\n",
    "Then just as he was going to fire at him, it occurred to him that the wolf might have devoured the grandmother, and that she might still be saved, so he did not fire, but took a pair of scissors, and began to cut open the stomach of the sleeping wolf.\n",
    "When he had made two snips, he saw the Little Red Riding Hood shining, and then he made two snips more, and the little girl sprang out, crying, \"Ah, how frightened I have been. How dark it was inside the wolf.\"\n",
    "And after that the aged grandmother came out alive also, but scarcely able to breathe. Little Red Riding Hood, however, quickly fetched great stones with which they filled the wolf's belly, and when he awoke, he wanted to run away, but the stones were so heavy that he collapsed at once, and fell dead.\n",
    "Then all three were delighted. The huntsman drew off the wolf's skin and went home with it. The grandmother ate the cake and drank the wine which Little Red Riding Hood had brought, and revived, but Little Red Riding Hood thought to herself, as long as I live, I will never by myself leave the path, to run into the wood, when my mother has forbidden me to do so.\n",
    "\"\"\"\n",
    "summaryPrompts = \"\"\"\n",
    "A young girl with a basket walks through a forest, about halfway between the village and her destination.\n",
    "A young girl with a basket picks flowers in a forest, unaware of danger lurking nearby.\n",
    "A large wolf with sharp teeth pounces on a young girl in the forest.\n",
    "A brave hunter enters a forest, where he finds a wolf with an unexpected surprise inside its belly.\n",
    "A hunter uses a pair of scissors to cut into a wolf's belly, releasing two people from its innards.\n",
    "A wolf with a stomach full of stones tries to run away, but ultimately succumbs to its own weight.\n",
    "\"\"\"\n",
    "\n",
    "summaryActions = \"\"\"\n",
    "A forest with tall trees, about a half-league from the village.\n",
    "Little Red Riding Hood's mother gives her a piece of cake and a bottle of wine to bring to her grandmother.\n",
    "Little Red Riding Hood deviates from the path to pick flowers and encounters a wolf.\n",
    "The wolf tricks Little Red Riding Hood and eats her grandmother, then attempts to eat Little Red Riding Hood herself.\n",
    "The huntsman arrives and discovers Little Red Riding Hood and her grandmother inside the wolf's stomach.\n",
    "The huntsman cuts open the wolf's stomach and rescues Little Red Riding Hood and her grandmother.\n",
    "The wolf awakens and tries to escape with the heavy stones in its stomach, but collapses and dies.\n",
    "\"\"\""
   ]
  },
  {
   "cell_type": "code",
   "execution_count": 37,
   "id": "9cbf2f47",
   "metadata": {},
   "outputs": [
    {
     "name": "stderr",
     "output_type": "stream",
     "text": [
      "Some weights of RobertaModel were not initialized from the model checkpoint at roberta-large and are newly initialized: ['pooler.dense.bias', 'pooler.dense.weight']\n",
      "You should probably TRAIN this model on a down-stream task to be able to use it for predictions and inference.\n"
     ]
    },
    {
     "data": {
      "text/plain": [
       "{'Semantic Similarity (SBERT)': 0.43760600686073303,\n",
       " 'Content Similarity (BERTScore)': 0.8043063282966614,\n",
       " 'Coverage (ROUGE-L)': 0.06725380304243395,\n",
       " 'Relevance (METEOR)': 0.03690393424256991,\n",
       " 'Relevance Spread': 0.09474727562626696}"
      ]
     },
     "execution_count": 37,
     "metadata": {},
     "output_type": "execute_result"
    }
   ],
   "source": [
    "evaluate_summary_v2(original_text, summaryPrompts.strip())"
   ]
  },
  {
   "cell_type": "code",
   "execution_count": 38,
   "id": "c51771ef",
   "metadata": {},
   "outputs": [
    {
     "name": "stderr",
     "output_type": "stream",
     "text": [
      "Some weights of RobertaModel were not initialized from the model checkpoint at roberta-large and are newly initialized: ['pooler.dense.bias', 'pooler.dense.weight']\n",
      "You should probably TRAIN this model on a down-stream task to be able to use it for predictions and inference.\n"
     ]
    },
    {
     "data": {
      "text/plain": [
       "{'Semantic Similarity (SBERT)': 0.648106575012207,\n",
       " 'Content Similarity (BERTScore)': 0.8321223855018616,\n",
       " 'Coverage (ROUGE-L)': 0.12173913043478261,\n",
       " 'Relevance (METEOR)': 0.06256928438851203,\n",
       " 'Relevance Spread': 0.13997035067230038}"
      ]
     },
     "execution_count": 38,
     "metadata": {},
     "output_type": "execute_result"
    }
   ],
   "source": [
    "evaluate_summary_v2(original_text, summaryActions.strip())"
   ]
  },
  {
   "cell_type": "code",
   "execution_count": 49,
   "id": "b80e2045",
   "metadata": {},
   "outputs": [],
   "source": [
    "import re\n",
    "\n",
    "def extract_prompts(text: str) -> list:\n",
    "    # Matches 'Prompt: \"...\"' and captures the content inside the quotes\n",
    "    pattern = r'Prompt:\\s*\"([^\"]+)\"'\n",
    "    return re.findall(pattern, text)\n",
    "\n",
    "def extract_actions(text: str) -> list:\n",
    "    # Matches 'Actions: ...' and captures everything up to the next line starting with a capitalized field or 'Prompt:'\n",
    "    pattern = r'Actions:\\s*(.*?)(?=\\n(?:Setting|Characters|Actions|Prompt|Event|\\Z))'\n",
    "    return [action.strip() for action in re.findall(pattern, text, flags=re.DOTALL)]\n"
   ]
  },
  {
   "cell_type": "code",
   "execution_count": 45,
   "id": "199f42ab",
   "metadata": {},
   "outputs": [
    {
     "name": "stdout",
     "output_type": "stream",
     "text": [
      "A young girl with a basket walks through a forest, about halfway between the village and her destination.\n",
      "A young girl with a basket picks flowers in a forest, unaware of danger lurking nearby.\n",
      "A large wolf with sharp teeth pounces on a young girl in the forest.\n",
      "A brave hunter enters a forest, where he finds a wolf with an unexpected surprise inside its belly.\n",
      "A hunter uses a pair of scissors to cut into a wolf's belly, releasing two people from its innards.\n",
      "A wolf with a stomach full of stones tries to run away, but ultimately succumbs to its own weight.\n"
     ]
    }
   ],
   "source": [
    "# Example usage:\n",
    "input_text = \"\"\"\n",
    "Event 1:\n",
    "\n",
    "Setting: A forest with tall trees, about a half-league from the village.\n",
    "Characters: Little Red Riding Hood (key participant), her mother (not a key participant).\n",
    "Actions: Little Red Riding Hood's mother gives her a piece of cake and a bottle of wine to bring to her grandmother.\n",
    "Prompt: \"A young girl with a basket walks through a forest, about halfway between the village and her destination.\"\n",
    "Event 2:\n",
    "\n",
    "Setting: The same forest as before.\n",
    "Characters: Little Red Riding Hood (key participant).\n",
    "Actions: Little Red Riding Hood deviates from the path to pick flowers and encounters a wolf.\n",
    "Prompt: \"A young girl with a basket picks flowers in a forest, unaware of danger lurking nearby.\"\n",
    "\n",
    "Event 3:\n",
    "Setting: The same forest as before.\n",
    "Characters: Wolf (key participant), Little Red Riding Hood (key participant).\n",
    "Actions: The wolf tricks Little Red Riding Hood and eats her grandmother, then attempts to eat Little Red Riding Hood herself.\n",
    "Prompt: \"A large wolf with sharp teeth pounces on a young girl in the forest.\"\n",
    "Event 4:\n",
    "\n",
    "Setting: The same forest as before.\n",
    "Characters: Wolf (key participant), huntsman (key participant).\n",
    "Actions: The huntsman arrives and discovers Little Red Riding Hood and her grandmother inside the wolf's stomach.\n",
    "Prompt: \"A brave hunter enters a forest, where he finds a wolf with an unexpected surprise inside its belly.\"\n",
    "Event 5:\n",
    "\n",
    "Setting: The same location as Event 4.\n",
    "Characters: Huntsman (key participant), Little Red Riding Hood (key participant), grandmother (key participant).\n",
    "Actions: The huntsman cuts open the wolf's stomach and rescues Little Red Riding Hood and her grandmother.\n",
    "Prompt: \"A hunter uses a pair of scissors to cut into a wolf's belly, releasing two people from its innards.\"\n",
    "Event 6:\n",
    "\n",
    "Setting: The same location as Event 5.\n",
    "Characters: Wolf (key participant).\n",
    "Actions: The wolf awakens and tries to escape with the heavy stones in its stomach, but collapses and dies.\n",
    "Prompt: \"A wolf with a stomach full of stones tries to run away, but ultimately succumbs to its own weight.\"\n",
    "\"\"\"\n",
    "\n",
    "prompts = extract_prompts(input_text)\n",
    "for i, prompt in enumerate(prompts, 1):\n",
    "    print(f\"{prompt}\")\n",
    "\n"
   ]
  },
  {
   "cell_type": "code",
   "execution_count": 50,
   "id": "a6252d71",
   "metadata": {},
   "outputs": [
    {
     "name": "stdout",
     "output_type": "stream",
     "text": [
      "Little Red Riding Hood's mother gives her a piece of cake and a bottle of wine to bring to her grandmother.\n",
      "Little Red Riding Hood deviates from the path to pick flowers and encounters a wolf.\n",
      "The wolf tricks Little Red Riding Hood and eats her grandmother, then attempts to eat Little Red Riding Hood herself.\n",
      "The huntsman arrives and discovers Little Red Riding Hood and her grandmother inside the wolf's stomach.\n",
      "The huntsman cuts open the wolf's stomach and rescues Little Red Riding Hood and her grandmother.\n",
      "The wolf awakens and tries to escape with the heavy stones in its stomach, but collapses and dies.\n"
     ]
    }
   ],
   "source": [
    "actions = extract_actions(input_text)\n",
    "for i, action in enumerate(actions, 1):\n",
    "    print(f\"{action}\")"
   ]
  }
 ],
 "metadata": {
  "kernelspec": {
   "display_name": "EventsEvaluation",
   "language": "python",
   "name": "python3"
  },
  "language_info": {
   "codemirror_mode": {
    "name": "ipython",
    "version": 3
   },
   "file_extension": ".py",
   "mimetype": "text/x-python",
   "name": "python",
   "nbconvert_exporter": "python",
   "pygments_lexer": "ipython3",
   "version": "3.10.0"
  }
 },
 "nbformat": 4,
 "nbformat_minor": 5
}
